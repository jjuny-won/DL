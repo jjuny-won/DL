{
 "cells": [
  {
   "cell_type": "markdown",
   "id": "523cf8b2",
   "metadata": {},
   "source": [
    "# 오차역전파"
   ]
  },
  {
   "cell_type": "markdown",
   "id": "6ced8354",
   "metadata": {},
   "source": [
    "## 연쇄 법칙\n",
    "    - ㅁㄷㄷㄷ"
   ]
  },
  {
   "cell_type": "markdown",
   "id": "d934c9c1",
   "metadata": {},
   "source": [
    "## 5.1 계산 그래프\n",
    "\n",
    "- 계산 그래프 : 계산 과정을 그래프로 나타낸 것\n",
    "- '국소적' : 자신과 직접 관계된 작은 범위\n",
    "- 국소적 계산 : 전체에서 어떤일이 벌어지든 상관없이 자신과 관계된 정보만으로 결과를 출력할 수 있다는 것\n",
    "- 계산 그래프의 이점\n",
    "    - 국소적 계산 : 전체가 아무리 복잡해도 각 노드에서 단순한 계산에 집중하여 문제를 단순화 할 수 있다.\n",
    "    - 중간 계산 결과 모두 보관 \n",
    "    - 순전파와 역전파를 이용해 각 변수의 미분을 효율적으로 구할 수 있다!\n",
    "    \n",
    "\n"
   ]
  },
  {
   "cell_type": "markdown",
   "id": "bf2aa000",
   "metadata": {},
   "source": [
    "## 5.2 연쇄법칙\n",
    "- 순전파 : 왼쪽 -> 오른쪽으로 전달\n",
    "- 역전파 : '국소적인 미분' 을 오른쪽 -> 왼쪽으로 전달\n",
    "- '국소적인 미분' 을 전달하는 원리는 '연쇄법칙'에 따른 것\n",
    "\n",
    "### 5.2.1 계산 그래프를 통한 역전파\n",
    "- 국소적인 미분을 상류에서 전달된 값(E) 에 곱해 앞쪽 노드로 전달\n",
    "\n",
    "### 5.2.2 연쇄법칙\n",
    "- 합성 함수의 미분은 합성 함수를 구성하는 각 함수의 미분의 곱으로 나타낼 수 있다\n",
    "\n",
    "### 5.2 3 연쇄 법칙과 계산 그래프\n",
    "- 역전파가 하는 일은 연쇄법칙의 원리와 같다\n",
    "![이미지 설명](https://miro.medium.com/v2/resize:fit:1400/1*oLWpRn3a2IW_YYg9hozS4Q.png)\n"
   ]
  },
  {
   "cell_type": "markdown",
   "id": "0dd0fba9",
   "metadata": {},
   "source": [
    "## 5.3 역전파\n",
    "\n",
    "- 덧셈 노드의 역전파는 입력된 값을 그래도 다음 노드로 보낸다\n",
    "- 곱셈 노드의 역전파는 순전파 때의 입력 신호들을 '서로 바꾼 값' 을 곱해서 하류로 보낸다"
   ]
  },
  {
   "cell_type": "markdown",
   "id": "2a21853d",
   "metadata": {},
   "source": [
    "## 5.4 단순한 계층 구현하기"
   ]
  },
  {
   "cell_type": "code",
   "execution_count": 1,
   "id": "8c3b14d0",
   "metadata": {},
   "outputs": [],
   "source": [
    "class MulLayer:\n",
    "    def __init__(self):\n",
    "        self.x = None\n",
    "        self.y = None\n",
    "        \n",
    "    def forward(self,x,y):\n",
    "        self.x = x\n",
    "        self.y= y\n",
    "        out = x*y\n",
    "        \n",
    "        return out\n",
    "    \n",
    "    # 상류에서 넘어온 미분(dout)을 순전파 때의 값을 서로 바꿔 곱해 흘린다\n",
    "    def backward(self, dout):\n",
    "        dx = dout*self.y\n",
    "        dy = dout*self.x\n",
    "        \n",
    "        return dx,dy"
   ]
  },
  {
   "cell_type": "code",
   "execution_count": 2,
   "id": "10cfea3e",
   "metadata": {},
   "outputs": [
    {
     "name": "stdout",
     "output_type": "stream",
     "text": [
      "220.00000000000003\n",
      "2.2 110.00000000000001 200\n"
     ]
    }
   ],
   "source": [
    "apple = 100\n",
    "apple_num =2\n",
    "tax =1.1\n",
    "\n",
    "# 계층들\n",
    "mul_apple_layer = MulLayer()\n",
    "mul_tax_layer= MulLayer()\n",
    "\n",
    "# 순전파\n",
    "apple_price = mul_apple_layer.forward(apple, apple_num)\n",
    "price = mul_tax_layer.forward(apple_price,tax)\n",
    "\n",
    "print(price)\n",
    "\n",
    "#역전파\n",
    "dprice = 1\n",
    "dapple_price, dtax = mul_tax_layer.backward(dprice)\n",
    "dapple, dapple_num = mul_apple_layer.backward(dapple_price)\n",
    "\n",
    "print(dapple, dapple_num, dtax)"
   ]
  },
  {
   "cell_type": "code",
   "execution_count": 3,
   "id": "d0ec4f4d",
   "metadata": {},
   "outputs": [],
   "source": [
    "class AddLayer:\n",
    "    def __init__(self):\n",
    "        pass\n",
    "    def forward(self,x,y):\n",
    "        out=x+y\n",
    "        return out\n",
    "    def backward(self,dout):\n",
    "        dx = dout*1\n",
    "        dy = dout*1\n",
    "        return dx,dy"
   ]
  },
  {
   "cell_type": "code",
   "execution_count": 4,
   "id": "1d50e103",
   "metadata": {},
   "outputs": [
    {
     "name": "stdout",
     "output_type": "stream",
     "text": [
      "715.0000000000001\n",
      "110.00000000000001 2.2 3.3000000000000003 165.0 650\n"
     ]
    }
   ],
   "source": [
    "apple = 100\n",
    "apple_num=2\n",
    "orange = 150\n",
    "orange_num =3\n",
    "tax = 1.1\n",
    "\n",
    "#계층들\n",
    "mul_apple_layer = MulLayer()\n",
    "mul_orange_layer = MulLayer()\n",
    "add_apple_orange_layer = AddLayer()\n",
    "mul_tax_layer = MulLayer()\n",
    "\n",
    "#순전파\n",
    "apple_price = mul_apple_layer.forward(apple, apple_num )\n",
    "orange_price = mul_orange_layer.forward(orange, orange_num)\n",
    "all_price = add_apple_orange_layer.forward(apple_price, orange_price)\n",
    "price = mul_tax_layer.forward(all_price, tax)\n",
    "\n",
    "print(price)\n",
    "\n",
    "\n",
    "#역전파\n",
    "dprice =1\n",
    "dall_price, dtax = mul_tax_layer.backward(dprice)\n",
    "dapple_price, dorange_price = add_apple_orange_layer.backward(dall_price)\n",
    "dorange, dorange_num = mul_orange_layer.backward(dorange_price)\n",
    "dapple, dpple_num = mul_apple_layer.backward(dapple_price)\n",
    "\n",
    "print(dapple_num, dapple, dorange, dorange_num,dtax)"
   ]
  },
  {
   "cell_type": "markdown",
   "id": "be43ff8f",
   "metadata": {},
   "source": [
    "## 5.5 활성화 함수 계층 구현하기\n",
    "\n",
    "### 5.5.1 ReLU 계층\n",
    "\n",
    "![](https://mblogthumb-phinf.pstatic.net/MjAyMTExMDJfMjk2/MDAxNjM1ODI3Njc1NzM0.TfqRMGXfnoMPKfxvK_e6CzOI4-At1-cjoenxEejF5Gwg.1JfhYvoF_RyJ3bxi4IamcR76mThRlzH7EIyjjF1NAA4g.PNG.vail131/image.png?type=w800)"
   ]
  },
  {
   "cell_type": "code",
   "execution_count": 5,
   "id": "8c46c71e",
   "metadata": {},
   "outputs": [],
   "source": [
    "class Relu:\n",
    "    def __init__(self):\n",
    "        self.mask = None\n",
    "        #mask 는 T/F 로 구성된 넘파이 배열\n",
    "    \n",
    "    def forward(self,x):\n",
    "        self.mask = (x <=0)\n",
    "        out = x.copy()\n",
    "        out[self.mask] =0\n",
    "        \n",
    "        return out\n",
    "    \n",
    "    def backward(self,dout):\n",
    "        dout[self.mask] =0\n",
    "        dx = dout\n",
    "        return dx"
   ]
  },
  {
   "cell_type": "code",
   "execution_count": 6,
   "id": "4a36d0a7",
   "metadata": {},
   "outputs": [
    {
     "name": "stdout",
     "output_type": "stream",
     "text": [
      "[[ 1.  -0.5]\n",
      " [-2.   3. ]]\n",
      "[[False  True]\n",
      " [ True False]]\n"
     ]
    }
   ],
   "source": [
    "import numpy as np\n",
    "x = np.array([[1.0,-0.5],[-2.0,3.0]])\n",
    "print(x)\n",
    "\n",
    "mask = (x<=0)\n",
    "\n",
    "print(mask)"
   ]
  },
  {
   "cell_type": "markdown",
   "id": "a5c609da",
   "metadata": {},
   "source": [
    "### 5.5.2 Sigmoid 계층\n",
    "\n",
    "![](https://as1.ftcdn.net/v2/jpg/05/00/99/90/1000_F_500999006_x0FJCbcDPQwaye1JKG3cYVXSHq0plwIu.jpg)\n",
    "![](https://heung-bae-lee.github.io/image/differentiation_of_sigmoid_function.png)\n",
    "1. '/'노드  \n",
    "    - y =1/x 를 미분하면 -y**2 과 같다\n",
    "    - 상류에서 흘러온 값에 -y**2 을 곱해서 하류로 전달한다\n",
    "    \n",
    "2. '+' 노드 : 상류의 값 그래도 흘려보낸다\n",
    "\n",
    "3. 'exp' 노드\n",
    "    - y = exp(x) 연산 수행\n",
    "    - 미분 : exp(-x) 를 곱해 전달\n",
    "    \n",
    "4. 'x' 는 순전파의 값을 서로 바꿔 곱한다\n",
    "\n",
    "- Sigmoid 계층의 역전파는 순전파의 출력(y) 만으로 계산할 수 있다"
   ]
  },
  {
   "cell_type": "code",
   "execution_count": 7,
   "id": "e24566cb",
   "metadata": {},
   "outputs": [],
   "source": [
    "class Sigmoid:\n",
    "    def __init__(self):\n",
    "        self.out = None\n",
    "        \n",
    "    def forward(self,x):\n",
    "        out = 1/(1+np.exp(-x))\n",
    "        self.out = out\n",
    "        return out\n",
    "    \n",
    "    def backward(self,dout):\n",
    "        dx = dout * (1.0 - self.out) * self.out\n",
    "        return dx"
   ]
  },
  {
   "cell_type": "markdown",
   "id": "31116091",
   "metadata": {},
   "source": [
    "## 5.6 Affine/Softmax 계층 구하기 \n",
    "\n",
    "### 5.6.1 Affine 계층\n",
    "\n",
    "\n",
    "- 어파인 변환 : 신경망의 순전파 때 수행하는 행렬의 곱\n",
    "- 어파인 변환을 수행하는 처리 -> Affine 게층 \n",
    "- 행렬의 곱에서는 대응하는 차원의 원소 수를 일치시켜야 한다\n",
    "- 행렬 곱 (dot 노드)의 역전파는 행렬의 대응하는 차원의 원소 수가 일치하도록 곱을 조립해 구할 수 있다\n",
    "- 편향의 역전파는 두 데이터에 대한 미분을 데이터마다 더해서 구한다 np.sum(dy, axis =0) 0번쨰 축의 총합\n"
   ]
  },
  {
   "cell_type": "code",
   "execution_count": 8,
   "id": "8381d2a9",
   "metadata": {},
   "outputs": [],
   "source": [
    "class Affine:\n",
    "    def __init__(self, W, b):\n",
    "        self.W = W\n",
    "        self.b = b\n",
    "        self.x = None\n",
    "        self.dW = None\n",
    "        self.db = None\n",
    "\n",
    "    def forward(self, x):\n",
    "        self.x = x\n",
    "        out = np.dot(x, self.W) + self.b\n",
    "\n",
    "        return out\n",
    "\n",
    "    def backward(self, dout):\n",
    "        dx = np.dot(dout, self.W.T)\n",
    "        self.dW = np.dot(self.x.T, dout)\n",
    "        self.db = np.sum(dout, axis=0)\n",
    "\n",
    "        return dx"
   ]
  },
  {
   "cell_type": "markdown",
   "id": "c2fa8ded",
   "metadata": {},
   "source": [
    "### Softmax-with-Loss 계층\n",
    "\n",
    "- 소프트 맥스 함수는 입력 값을 정규화하여 출력\n",
    "- 신경망 추론에서는 Softmax 계층을 사용하지 않는다\n",
    "- 신경망에서 정규화되지 않은 출력을 점수(score)이라고 한다\n",
    "- 신경망 추론에서 답을 하나만 내는 경우에는 가장 높은 점수만 알면 되므로 Softmax 계층 필요 X\n",
    "- 신경망 학습시에는 필요\n",
    "\n",
    "#### Softmax-with-Loss 계층\n",
    "- 소프르맥스 계층에 손실함수인 '교차 엔트로피 오차' 포함\n",
    "- 3 클래스 분류\n",
    "    - Softmax 계층은 입역을 정규화해 y 를 출력\n",
    "    - Cross Entropy Error 계층은 Softmax 의 출려(y) 와 정답 레이블(t)를 받고 손실 L을 출력\n",
    "    - '소프트 맥스 함수'의 손실함수로 '교차 엔트로피 오차'를 사용하니 역전파 (y-t)로 말끔히 떨어진다\n",
    "    \n"
   ]
  },
  {
   "cell_type": "code",
   "execution_count": 9,
   "id": "98fcb434",
   "metadata": {},
   "outputs": [],
   "source": [
    "class SoftmaxWIthLoss:\n",
    "    def __init__(self):\n",
    "        self.loss = None #손실\n",
    "        self.y=None #softmax 의 출력\n",
    "        self.t = None #정답 레이블 \n",
    "        \n",
    "    def forward(self,x,t):\n",
    "        self.t = t\n",
    "        self.y = softmax(x)\n",
    "        self.loss = cross_entropy_error(self,y, self.t)\n",
    "        return self.loss\n",
    "    \n",
    "    def backward(self,dout=1):\n",
    "        batch_size= self.t.shape[0]\n",
    "        dx = (self.y -self.t)/batch_size\n",
    "        #역전파 때는 전파하는 값을 배치의 수로 나눠 데이터 1개당 오차를 앞 계층에 전파\n",
    "        return dx"
   ]
  },
  {
   "cell_type": "markdown",
   "id": "ceb3a569",
   "metadata": {},
   "source": [
    "## 5.7 오차역전파법 구현하기"
   ]
  },
  {
   "cell_type": "code",
   "execution_count": 10,
   "id": "ea9f8bce",
   "metadata": {},
   "outputs": [],
   "source": [
    "import sys,os\n",
    "sys.path.append(os.pardir)\n",
    "import numpy as np\n",
    "from common.layers import *\n",
    "from common.gradient import numerical_gradient\n",
    "from collections import OrderedDict"
   ]
  },
  {
   "cell_type": "code",
   "execution_count": 15,
   "id": "13efa0cf",
   "metadata": {},
   "outputs": [],
   "source": [
    "class TwoLayerNet:\n",
    "    def __init__(self, input_size, hidden_size, output_size,\n",
    "        weight_init_std=0.01):\n",
    "        # 가중치 초기화\n",
    "        self.params = {}\n",
    "        self.params['W1'] = weight_init_std * \\\n",
    "            np.random.randn(input_size, hidden_size)\n",
    "        self.params['b1'] = np.zeros(hidden_size)\n",
    "        self.params['W2'] = weight_init_std * \\\n",
    "            np.random.randn(hidden_size, output_size)\n",
    "        self.params['b2'] = np.zeros(output_size)\n",
    "\n",
    "        # 계층 생성\n",
    "        self.layers = OrderedDict()\n",
    "        self.layers['Affine1'] = \\\n",
    "            Affine(self.params['W1'], self.params['b1'])\n",
    "        self.layers['Relu1'] = Relu()\n",
    "        self.layers['Affine2'] = \\\n",
    "            Affine(self.params['W2'], self.params['b2'])\n",
    "        self.lastLayer = SoftmaxWithLoss()\n",
    "\n",
    "    def predict(self, x):\n",
    "        for layer in self.layers.values():\n",
    "            x = layer.forward(x)\n",
    "\n",
    "        return x\n",
    "\n",
    "    # x : 입력 데이터, t : 정답 레이블\n",
    "    def loss(self, x, t):\n",
    "        y = self.predict(x)\n",
    "        return self.lastLayer.forward(y, t)\n",
    "\n",
    "    def accuracy(self, x, t):\n",
    "        y = self.predict(x)\n",
    "        y = np.argmax(y, axis=1)\n",
    "        if t.ndim != 1:\n",
    "            t = np.argmax(t, axis=1)\n",
    "\n",
    "        accuracy = np.sum(y == t) / float(x.shape[0])\n",
    "        return accuracy\n",
    "\n",
    "    def numerical_gradient(self, x, t):\n",
    "        loss_W = lambda W: self.loss(x, t)\n",
    "\n",
    "        grads = {}\n",
    "        grads['W1'] = numerical_gradient(loss_W, self.params['W1'])\n",
    "        grads['b1'] = numerical_gradient(loss_W, self.params['b1'])\n",
    "        grads['W2'] = numerical_gradient(loss_W, self.params['W2'])\n",
    "        grads['b2'] = numerical_gradient(loss_W, self.params['b2'])\n",
    "\n",
    "        return grads\n",
    "\n",
    "    def gradient(self, x, t):\n",
    "        # 순전파\n",
    "        self.loss(x, t)\n",
    "\n",
    "        # 역전파\n",
    "        dout = 1\n",
    "        dout = self.lastLayer.backward(dout)\n",
    "\n",
    "        layers = list(self.layers.values())\n",
    "        layers.reverse()\n",
    "        for layer in layers:\n",
    "            dout = layer.backward(dout)\n",
    "\n",
    "        # 결과 저장\n",
    "        grads = {}\n",
    "        grads['W1'] = self.layers['Affine1'].dW\n",
    "        grads['b1'] = self.layers['Affine1'].db\n",
    "        grads['W2'] = self.layers['Affine2'].dW\n",
    "        grads['b2'] = self.layers['Affine2'].db\n",
    "\n",
    "        return grads\n",
    "\n"
   ]
  },
  {
   "cell_type": "markdown",
   "id": "0134d12c",
   "metadata": {},
   "source": [
    "### 5.7.3 오차역전파법으로 구한 기울기 검증하기\n",
    "\n",
    "- 기울기를 구하는 방법\n",
    "   - 수치 미분  \n",
    "   - 해석적 방법 : 오차역전파법 이용 \n",
    "   \n",
    "- 수치 미분 특징 : 느리다, 하지만 구현하기 쉽다\n",
    "- 기울기 확인: 수치 미분의 결과 오차역전파법의 결과를 비교해 검증하는 작업"
   ]
  },
  {
   "cell_type": "code",
   "execution_count": 16,
   "id": "6275250b",
   "metadata": {},
   "outputs": [
    {
     "name": "stdout",
     "output_type": "stream",
     "text": [
      "W1:2.020995424157243e-13\n",
      "b1:7.472109991293538e-13\n",
      "W2:7.511187661971876e-13\n",
      "b2:1.194599946741093e-10\n"
     ]
    }
   ],
   "source": [
    "import sys,os\n",
    "sys.path.append(os.pardir)\n",
    "import numpy as p\n",
    "from dataset.mnist import load_mnist\n",
    "\n",
    "(x_train, t_train), (x_test, t_test) = load_mnist(normalize=True, one_hot_label=True)\n",
    "\n",
    "network = TwoLayerNet(input_size=784, hidden_size=50, output_size=10)\n",
    "\n",
    "x_batch = x_train[:3]\n",
    "t_batch = t_train[:3]\n",
    "\n",
    "grad_numerical = network.numerical_gradient(x_batch, t_batch)\n",
    "grad_backprop = network.gradient(x_batch, t_batch)\n",
    "\n",
    "    # 각 가중치의 차이의 절댓값을 구한 후, 그 절댓값들의 평균을 낸다.\n",
    "for key in grad_numerical.keys():\n",
    "    diff = np.average(np.abs(grad_backprop[key] - grad_numerical[key]))\n",
    "    print(key + \":\" + str(diff))"
   ]
  },
  {
   "cell_type": "markdown",
   "id": "cafda516",
   "metadata": {},
   "source": [
    "### 5.7.4 오차역전파법 사용한 학습 구현하기"
   ]
  },
  {
   "cell_type": "code",
   "execution_count": 19,
   "id": "e13c2375",
   "metadata": {},
   "outputs": [
    {
     "name": "stdout",
     "output_type": "stream",
     "text": [
      "train acc, test acc | 0.15591666666666668, 0.1591\n",
      "train acc, test acc | 0.9055333333333333, 0.9086\n",
      "train acc, test acc | 0.92265, 0.9234\n",
      "train acc, test acc | 0.9343666666666667, 0.9332\n",
      "train acc, test acc | 0.9441333333333334, 0.9429\n",
      "train acc, test acc | 0.9515833333333333, 0.9497\n",
      "train acc, test acc | 0.9577333333333333, 0.9544\n",
      "train acc, test acc | 0.95935, 0.9566\n",
      "train acc, test acc | 0.96565, 0.9605\n",
      "train acc, test acc | 0.9682666666666667, 0.962\n",
      "train acc, test acc | 0.9699833333333333, 0.9632\n",
      "train acc, test acc | 0.9724833333333334, 0.9653\n",
      "train acc, test acc | 0.9736666666666667, 0.9657\n",
      "train acc, test acc | 0.9743166666666667, 0.9678\n",
      "train acc, test acc | 0.976, 0.9678\n",
      "train acc, test acc | 0.9777, 0.9687\n",
      "train acc, test acc | 0.9786333333333334, 0.9698\n"
     ]
    }
   ],
   "source": [
    "import sys\n",
    "import os\n",
    "import numpy as np\n",
    "sys.path.append(os.pardir)\n",
    "from dataset.mnist import load_mnist\n",
    "\n",
    "\n",
    "# 데이터 읽기\n",
    "(x_train, t_train), (x_test, t_test) = \\\n",
    "    load_mnist(normalize=True, one_hot_label=True)\n",
    "network = TwoLayerNet(input_size=784, hidden_size=50, output_size=10)\n",
    "\n",
    "# 하이퍼 파라메터\n",
    "iters_num = 10000  # 반복횟수\n",
    "train_size = x_train.shape[0]\n",
    "batch_size = 100  # 미니배치 크기\n",
    "learning_rate = 0.1\n",
    "\n",
    "train_loss_list = []\n",
    "train_acc_list = []\n",
    "test_acc_list = []\n",
    "\n",
    "# 1에폭당 반복 수\n",
    "iter_per_epoch = max(train_size / batch_size, 1)\n",
    "\n",
    "for i in range(iters_num):\n",
    "    # print(i)\n",
    "    # 미니배치 획득\n",
    "    batch_mask = np.random.choice(train_size, batch_size)\n",
    "    x_batch = x_train[batch_mask]\n",
    "    t_batch = t_train[batch_mask]\n",
    "\n",
    "    # 오차역전파법으로 기울기 계산\n",
    "    grad = network.gradient(x_batch, t_batch)\n",
    "\n",
    "    # 매개변수 갱신\n",
    "    for key in ('W1', 'b1', 'W2', 'b2'):\n",
    "        network.params[key] -= learning_rate * grad[key]\n",
    "\n",
    "    # 학습 경과 기록\n",
    "    loss = network.loss(x_batch, t_batch)\n",
    "    train_loss_list.append(loss)\n",
    "\n",
    "    # 1에폭 당 정확도 계산\n",
    "    if i % iter_per_epoch == 0:\n",
    "        train_acc = network.accuracy(x_train, t_train)\n",
    "        test_acc = network.accuracy(x_test, t_test)\n",
    "        train_acc_list.append(train_acc)\n",
    "        test_acc_list.append(test_acc)\n",
    "        print(\"train acc, test acc | \" + str(train_acc) + \", \" + str(test_acc))\n"
   ]
  },
  {
   "cell_type": "code",
   "execution_count": null,
   "id": "31100066",
   "metadata": {},
   "outputs": [],
   "source": []
  }
 ],
 "metadata": {
  "kernelspec": {
   "display_name": "Python 3 (ipykernel)",
   "language": "python",
   "name": "python3"
  },
  "language_info": {
   "codemirror_mode": {
    "name": "ipython",
    "version": 3
   },
   "file_extension": ".py",
   "mimetype": "text/x-python",
   "name": "python",
   "nbconvert_exporter": "python",
   "pygments_lexer": "ipython3",
   "version": "3.9.13"
  }
 },
 "nbformat": 4,
 "nbformat_minor": 5
}
