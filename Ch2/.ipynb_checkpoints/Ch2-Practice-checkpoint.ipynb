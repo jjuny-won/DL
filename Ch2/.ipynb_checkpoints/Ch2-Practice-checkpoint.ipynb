{
 "cells": [
  {
   "cell_type": "markdown",
   "id": "af3abaa0",
   "metadata": {},
   "source": [
    "# 퍼셉트론 \n",
    "- 다중의 신호를 입력 받아 하나의 신호를 출력\n",
    "- 입력 신호가 노드에 보내질 때는 각각 고유한 가중치(w1x1) 가 곱해진다\n",
    "- 노드에서 보내온 신호의 총합이 정해진 한계(임계값, 세타) 를 넘어설 때만 1 출력 -> 뉴런이 활성화한다\n",
    "- '학습' : 적절한 매개변수 값을 정하는 작업\n",
    "\n",
    "## 단순 논리 회로\n",
    "\n",
    "### AND 게이트\n",
    "### OR 게이트\n",
    "### NAND 게이트"
   ]
  },
  {
   "cell_type": "markdown",
   "id": "7d515d3f",
   "metadata": {},
   "source": []
  },
  {
   "cell_type": "markdown",
   "id": "0bdd17b4",
   "metadata": {},
   "source": [
    "## 퍼셉트론 구현하기"
   ]
  },
  {
   "cell_type": "code",
   "execution_count": null,
   "id": "8f9d6cfc",
   "metadata": {},
   "outputs": [],
   "source": [
    "def AND(x1,x2):\n",
    "    w1,w2 , theta = 0.5 , 0.5 , 0.7\n",
    "    tmp = x1*w1+x2*w2\n",
    "    if tmp <= theta:\n",
    "        return 0\n",
    "    elif tmp > theta:\n",
    "        return 1"
   ]
  },
  {
   "cell_type": "code",
   "execution_count": null,
   "id": "baba24b2",
   "metadata": {},
   "outputs": [],
   "source": [
    "AND(0,0)\n",
    "AND(1,0)\n",
    "AND(1,1)\n"
   ]
  },
  {
   "cell_type": "markdown",
   "id": "9c4c30ff",
   "metadata": {},
   "source": [
    "##### 퍼셉트론은 입력 신호에 가중치를 곱한 값과 편향을 합하여 0이 넘으면 1을 출력하고, 그렇지 않으면 0 출력"
   ]
  },
  {
   "cell_type": "code",
   "execution_count": 2,
   "id": "94f63a06",
   "metadata": {},
   "outputs": [
    {
     "data": {
      "text/plain": [
       "array([0. , 0.5])"
      ]
     },
     "execution_count": 2,
     "metadata": {},
     "output_type": "execute_result"
    }
   ],
   "source": [
    "import numpy as np\n",
    "x= np.array([0,1])\n",
    "w = np.array([0.5,0.5])\n",
    "b = -0.7\n",
    "\n",
    "w*x"
   ]
  },
  {
   "cell_type": "code",
   "execution_count": null,
   "id": "d9604a21",
   "metadata": {},
   "outputs": [],
   "source": [
    "np.sum(w*x)"
   ]
  },
  {
   "cell_type": "code",
   "execution_count": null,
   "id": "9161472c",
   "metadata": {},
   "outputs": [],
   "source": [
    "np.sum(w*x)+b"
   ]
  },
  {
   "cell_type": "markdown",
   "id": "de51fa10",
   "metadata": {},
   "source": [
    "### 가중치와 편향을 도입하여 구현하기"
   ]
  },
  {
   "cell_type": "code",
   "execution_count": 8,
   "id": "02206726",
   "metadata": {},
   "outputs": [],
   "source": [
    "def AND(x1,x2):\n",
    "    x = np.array([x1,x2])\n",
    "    w = np.array([0.5,0.5])\n",
    "    b= -0.7\n",
    "    tmp = np.sum(w*x)+b\n",
    "    if tmp <= 0:\n",
    "        return 0\n",
    "    else:\n",
    "        return 1"
   ]
  },
  {
   "cell_type": "markdown",
   "id": "b74fde64",
   "metadata": {},
   "source": [
    "가중치 (w1,w2) : 각 입력신호가 결과에 주는 영향력을 조절하는 매개변수\n",
    "편향 : 뉴런이 얼마나 쉽게 활성화되는지를 결정\n",
    "    - EX) -0.1 이면 가중치곱의 합이 0.1 을 초과할 때만 뉴런이 활성화"
   ]
  },
  {
   "cell_type": "code",
   "execution_count": 9,
   "id": "e6b701ab",
   "metadata": {},
   "outputs": [],
   "source": [
    "def NAND(x1,x2):\n",
    "    x = np.array([x1,x2])\n",
    "    w = np.array([-0.5,-0.5])\n",
    "    b= 0.7\n",
    "    tmp = np.sum(w*x)+b\n",
    "    if tmp <= 0:\n",
    "        return 0\n",
    "    else:\n",
    "        return 1"
   ]
  },
  {
   "cell_type": "code",
   "execution_count": 10,
   "id": "d7e755dc",
   "metadata": {},
   "outputs": [],
   "source": [
    "def OR (x1,x2):\n",
    "    x = np.array([x1,x2])\n",
    "    w = np.array([0.5,0.5])\n",
    "    b= -0.2\n",
    "    tmp = np.sum(w*x)+b\n",
    "    if tmp <= 0:\n",
    "        return 0\n",
    "    else:\n",
    "        return 1"
   ]
  },
  {
   "cell_type": "markdown",
   "id": "b1950437",
   "metadata": {},
   "source": [
    "## 퍼셉트론의 한계\n",
    "\n",
    "- 배타적 논리합 (XOR) : 둘중 하나만 1이면 1\n",
    "- 퍼센트롭으로 XOR 구현 X\n",
    "\n",
    "\n",
    "### 선형과 비선형\n",
    "- 퍼셉트론은 직선 하나로 나눈 영역만 표현할 수 있다는 한계가 있다 (곡선X)\n",
    "- 비선형 영역: 곡선의 영역\n",
    "- 선형 영역: 직선 영역"
   ]
  },
  {
   "cell_type": "markdown",
   "id": "33491654",
   "metadata": {},
   "source": [
    "# 다중 퍼셉트론\n",
    "\n",
    "- 층이 여러개인 퍼셉트론\n",
    "- 단층 퍼셉트론으로는 표현하지 못한 것을 층을 하나 늘려 구현할 수 있다\n"
   ]
  },
  {
   "cell_type": "code",
   "execution_count": 11,
   "id": "3e850fb0",
   "metadata": {},
   "outputs": [],
   "source": [
    "def XOR(x1,x2):\n",
    "    s1 = NAND(x1,x2)\n",
    "    s2 = OR(x1,x2)\n",
    "    y = AND(s1,s2)\n",
    "    return y"
   ]
  },
  {
   "cell_type": "code",
   "execution_count": 13,
   "id": "770aa263",
   "metadata": {},
   "outputs": [
    {
     "name": "stdout",
     "output_type": "stream",
     "text": [
      "0\n",
      "1\n",
      "1\n",
      "0\n"
     ]
    }
   ],
   "source": [
    "print(XOR(0, 0))  # 0\n",
    "print(XOR(1, 0))  # 1\n",
    "print(XOR(0, 1))  # 1\n",
    "print(XOR(1, 1))  # 0\n"
   ]
  }
 ],
 "metadata": {
  "kernelspec": {
   "display_name": "Python 3 (ipykernel)",
   "language": "python",
   "name": "python3"
  },
  "language_info": {
   "codemirror_mode": {
    "name": "ipython",
    "version": 3
   },
   "file_extension": ".py",
   "mimetype": "text/x-python",
   "name": "python",
   "nbconvert_exporter": "python",
   "pygments_lexer": "ipython3",
   "version": "3.9.13"
  }
 },
 "nbformat": 4,
 "nbformat_minor": 5
}
